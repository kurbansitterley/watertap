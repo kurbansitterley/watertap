{
 "cells": [
  {
   "cell_type": "markdown",
   "id": "c8e94fa8",
   "metadata": {},
   "source": [
    "# Parameter Estimation for Ion Exchange and GAC Breakthrough Data\n",
    "\n",
    "This demonstration will present the steps for setting up and conducting a parameter estimation for the WaterTAP ion exchange (IX) and granular activated carbon (GAC) models. \n",
    "\n",
    "Both technologies are potential candidates for treated water impacted by per- and polyfluoroalkyl substances (PFAS). Critical to evaluating sorptive technologies for this purpose is accurate modeling of when the effluent concentration will hit a user (or regulation) defined limit, the \"breakthrough concentration\". The breakthrough time will dictate when the media is spent and either is regenerated or, like the case with PFAS, disposed, and will have significant implications for the cost of each process. In this demonstration, we will use publicly available data from an Orange County Water District (OCWD) report to obtain calibrated kinetic, mass transfer, and isotherm parameters.The data includes the time of breakthrough in bed volumes (BV) and the effluent concentration. We want to be able to have the model accurately predict the breakthrough time for a specific species and breakthrough concentration.\n",
    "\n",
    "For this demonstration, we will use the Clark model for IX and the Constant Pattern Homogenous Surface Diffusion Model (CPHSDM) for GAC. Each model contains different parameters relevant to prediction of breakthrough time and is fully documented in the WaterTAP documentation.\n",
    "\n",
    "<p align=\"center\">\n",
    "    <img src=\"ix_gac_parmest/images/report-cover.png\" alt=\"Breakthrough Curve\" width=\"400\"/>\n",
    "</p>"
   ]
  },
  {
   "cell_type": "markdown",
   "id": "319c6ba1",
   "metadata": {},
   "source": [
    "Figure 11 of the OCWD report presents the breakthrough data used in the pilot studies. In total, they evaluated eight different GAC media and four different IX resins.\n",
    "\n",
    "Due to the lack of breakthrough for PFOS and PFHxS, we only consider the PFOA and PFBS data for the purposes of this demonstration. Of these four species, PFOA is the only one with a limit (10 ng/L).\n",
    "\n",
    "<p align=\"center\">\n",
    "    <img src=\"ix_gac_parmest/images/breakthrough-curves.png\" alt=\"Breakthrough Curve\" width=\"800\"/>\n",
    "</p>"
   ]
  },
  {
   "cell_type": "markdown",
   "id": "cb101f63",
   "metadata": {},
   "source": [
    "### Step 0: Imports"
   ]
  },
  {
   "cell_type": "code",
   "execution_count": null,
   "id": "d5b936af",
   "metadata": {},
   "outputs": [],
   "source": [
    "import yaml\n",
    "import pandas as pd\n",
    "import numpy as np\n",
    "\n",
    "import matplotlib.pyplot as plt\n",
    "from IPython.display import clear_output\n",
    "\n",
    "# from ix_gac_parmest.ix_gac_parmest import plot_curve, filter_data\n",
    "from ix_gac_parmest.ix_gac_parmest import *"
   ]
  },
  {
   "cell_type": "code",
   "execution_count": null,
   "id": "726b9bbc",
   "metadata": {},
   "outputs": [],
   "source": []
  },
  {
   "cell_type": "markdown",
   "id": "f3bd22ba",
   "metadata": {},
   "source": [
    "# Preparation\n",
    "\n",
    "Using parmest requires the creation of an `Estimator` object that accepts a user-created list of `Experiment` objects. In order to create both of these things, there are a few things to prepare before we can do the parameter estimation:\n",
    "\n",
    "* Cleaned data\n",
    "* Objective function\n",
    "* Initial guess\n",
    "* Build function\n"
   ]
  },
  {
   "cell_type": "markdown",
   "id": "baf5dc99",
   "metadata": {},
   "source": [
    "# Data"
   ]
  },
  {
   "cell_type": "code",
   "execution_count": null,
   "id": "fd83c86c",
   "metadata": {},
   "outputs": [],
   "source": [
    "ix_data = pd.read_csv(\"ix_gac_parmest/data/ix_ocwd_data.csv\")\n",
    "gac_data = pd.read_csv(\"ix_gac_parmest/data/gac_ocwd_data.csv\")"
   ]
  },
  {
   "cell_type": "markdown",
   "id": "94d8d5be",
   "metadata": {},
   "source": [
    "<p align=\"center\">\n",
    "    <img src=\"ix_gac_parmest/images/ix_data_raw.png\" alt=\"Breakthrough Curve\" width=\"600\"/>\n",
    "</p>\n",
    "\n",
    "<p align=\"center\">\n",
    "    <img src=\"ix_gac_parmest/images/gac_data_raw.png\" alt=\"Breakthrough Curve\" width=\"600\"/>\n",
    "</p>"
   ]
  },
  {
   "cell_type": "markdown",
   "id": "72b1a526",
   "metadata": {},
   "source": [
    "# Filtering Data\n",
    "\n",
    "Data filtering can be done any way.  Filtering and smoothing the dataset can help parmest in converging on parameter values.\n",
    "\n",
    "In this case, we are filtering the data such that the value is always below or above a certain threshold, and that the breakthrough concentration is generally increasing. Additionally, we ensure that no BV value is negative"
   ]
  },
  {
   "cell_type": "code",
   "execution_count": null,
   "id": "de774803",
   "metadata": {},
   "outputs": [],
   "source": [
    "curve = 1\n",
    "curve_data = ix_data[ix_data[\"curve_id\"] == curve].copy()\n",
    "\n",
    "# Results of filtering IX data\n",
    "ix_data_filtered = filter_data(curve_data)\n",
    "fig, ax = plot_curve(ix_data_filtered, x=\"all_bvs\", y=\"all_cnorms\", yleg=\"All data\")\n",
    "ax.set_title(\"Filtered IX Data Example\")\n",
    "\n",
    "# Results of filtering GAC data\n",
    "curve_data = gac_data[gac_data[\"curve_id\"] == curve].copy()\n",
    "gac_data_filtered = filter_data(curve_data)\n",
    "fig, ax = plot_curve(gac_data_filtered, x=\"all_bvs\", y=\"all_cnorms\", yleg=\"All data\")\n",
    "ax.set_title(\"Filtered GAC Data Example\")"
   ]
  },
  {
   "cell_type": "markdown",
   "id": "ca6e3f2f",
   "metadata": {},
   "source": [
    "# Model Build\n",
    "\n",
    "A model build function must be developed in order to build the list of `Experiment` that are passed to the `Estimator` object. At a minimum, the build function must return the model. In addition, the build function *should* also:\n",
    "\n",
    "1. Scale the model\n",
    "2. Initialize the model\n",
    "3. Solve the model\n",
    "\n",
    "It is important that the model that is returned is stable because this it the model that will be used by parmest to do the parameter estimation routine. It is recommended that you test the stability of the model over a range of potential input conditions."
   ]
  },
  {
   "cell_type": "code",
   "execution_count": null,
   "id": "3423f1ba",
   "metadata": {},
   "outputs": [],
   "source": [
    "curve = 1\n",
    "curve_data = ix_data[ix_data[\"curve_id\"] == curve].copy()\n",
    "species, resin = curve_data.species.iloc[0], curve_data.resin.iloc[0]\n",
    "\n",
    "initial_guess = {\n",
    "    \"fs.unit.bv_50\": 120000,\n",
    "    \"fs.unit.mass_transfer_coeff\": 0.2,\n",
    "    \"fs.unit.freundlich_n\": 2.0,\n",
    "}\n",
    "\n",
    "m = build_ix_ocwd_pilot(species=species, resin=resin, theta_dict=initial_guess)"
   ]
  },
  {
   "cell_type": "markdown",
   "id": "bfb33527",
   "metadata": {},
   "source": [
    "# Creating a list of Experiments\n",
    "\n",
    "Pyomo provides a template class `Experiment` to use to create the input list of experiments. Below is an inherited class for this application called `BreakthroughExperiment`. The class must include a `get_labeled_model` method that returns a model that:\n",
    "\n",
    "* contains an `experiment_outputs` `Suffix` that contains the experimental data\n",
    "* contains an `unknown_parmeters` `Suffix` that contains the parameters to be estimated\n",
    "* has the variables (or, parameters) that are being estimated *unfixed*\n",
    "\n",
    "Inputs for the `BreakthroughExperiment` class below are:\n",
    "\n",
    "* `data`: the filtered experimental dataset\n",
    "* `experiment_number`: a unique identifier for the experiment\n",
    "* `initial_guess`: an initial guess for the thetas\n",
    "* `build_function`: the model build function \n",
    "* `x_label`: name of the input variable. For these two models, this is the relative effluenct concentration (C/C0)\n",
    "* `y_label`: name of the varible to be predicted. For these two models, this is the breakthrough time in BVs\n",
    "* `build_kwargs`: dict any keyword arguments required for the build function\n",
    "* `thetas`: list of strings of the parameters to be estimated\n",
    "\n",
    "The `get_labeled_model` method proceeds as such:\n",
    "\n",
    "1. build, scale, and initialize the model via the `build_function`\n",
    "2. set the effluent concentration to be the experimental value\n",
    "3. re-initialize and solve the model at the initial guess\n",
    "4. unfix all the `theta` variables"
   ]
  },
  {
   "cell_type": "code",
   "execution_count": null,
   "id": "8c5ddd55",
   "metadata": {},
   "outputs": [],
   "source": []
  },
  {
   "cell_type": "markdown",
   "id": "604180d1",
   "metadata": {},
   "source": [
    "# Putting it all together\n",
    "\n",
    "The following two classes `AdsorptionParamEst` put all these steps into one class.\n",
    "\n",
    "Inputs for the `AdsorptionParamEst` class are:\n",
    "\n",
    "* `data`: unfiltered DataFrame\n",
    "* `build_function`: function that will return the model initialized and solved\n",
    "* `filter_data_function`: function that will return filtered data\n",
    "* `initial_guess`: dict of initial guess for thetas\n",
    "* `x_label`: name of the input variable. For these two models, this is the relative effluenct concentration (C/C0)\n",
    "* `y_label`: name of the varible to be predicted. For these two models, this is the breakthrough time in BVs\n",
    "* `build_kwargs`: dict any keyword arguments required for the build function\n",
    "*  `filter_data_kwargs`: dict of any keyword arguments required for the data filter function\n",
    "* `parmest_kwargs`: dict of any keyword arguments to pass to parmest\n",
    " \n",
    "With those inputs, the class can run a parameter estimation by calling the following methods in this order:\n",
    "\n",
    "1. `filter_data`: filters the input breakthrough curve\n",
    "2. `create_experiment_list`: creates a list of `BreakthroughExperiments` to pass to the `Estimator`\n",
    "3. `run_parmest`: "
   ]
  },
  {
   "cell_type": "code",
   "execution_count": null,
   "id": "655ec83c",
   "metadata": {},
   "outputs": [],
   "source": []
  },
  {
   "cell_type": "code",
   "execution_count": null,
   "id": "7a90afaa",
   "metadata": {},
   "outputs": [],
   "source": [
    "def SSE(model):\n",
    "    \"\"\"\n",
    "    Sum of squared error between `experiment_output` model and data values\n",
    "    \"\"\"\n",
    "    SSE_sf = 1e-4\n",
    "    expr = sum((y - y_hat) ** 2 for y, y_hat in model.experiment_outputs.items())\n",
    "    return expr * SSE_sf\n",
    "\n",
    "\n",
    "curve = 1\n",
    "\n",
    "df = ix_data[ix_data[\"curve_id\"] == curve].copy()\n",
    "\n",
    "initial_guess = {\n",
    "    \"fs.unit.bv_50\": 120000,\n",
    "    \"fs.unit.mass_transfer_coeff\": 0.2,\n",
    "    \"fs.unit.freundlich_n\": 2.0,\n",
    "}\n",
    "\n",
    "build_kwargs = dict(\n",
    "    species=species,\n",
    "    resin=resin,\n",
    "    theta_dict=initial_guess,\n",
    ")\n",
    "\n",
    "ix = AdsorptionParamEst(\n",
    "    data=df,\n",
    "    build_function=build_ix_ocwd_pilot,\n",
    "    # obj_function=\"SSE\",\n",
    "    obj_function=SSE,\n",
    "    initial_guess=initial_guess,\n",
    "    filter_data_function=filter_data,\n",
    "    xlabel=\"fs.unit.c_norm[PFOA]\",\n",
    "    ylabel=\"fs.unit.bv\",\n",
    "    thetas=[\"bv_50\", \"mass_transfer_coeff\", \"freundlich_n\"],\n",
    "    build_kwargs=build_kwargs,\n",
    ")\n",
    "\n",
    "ix.filter_data()\n",
    "ix.test_theta(theta_dict=initial_guess)\n",
    "clear_output(wait=False)\n",
    "df_ig = ix.test_theta_results.copy()\n",
    "ix.create_experiment_list()\n",
    "ix.run_parmest()\n",
    "clear_output(wait=False)\n",
    "ix.test_theta()\n",
    "clear_output(wait=False)\n",
    "df_theta = ix.test_theta_results.copy()\n",
    "ix.compute_fit_statistics()"
   ]
  },
  {
   "cell_type": "code",
   "execution_count": null,
   "id": "81e7029e",
   "metadata": {},
   "outputs": [],
   "source": [
    "fig, ax = plt.subplots()\n",
    "\n",
    "ax.plot(\n",
    "    ix.filtered_data[\"filtered_y\"],\n",
    "    ix.filtered_data[\"filtered_x\"],\n",
    "    color=\"grey\",\n",
    "    marker=None,\n",
    "    label=\"Experimental Data\",\n",
    "    alpha=0.45,\n",
    ")\n",
    "ax.plot(df_ig[ix.ylabel], df_ig[ix.xlabel], marker=\".\", label=\"Initial Guess\")\n",
    "ax.plot(df_theta[ix.ylabel], df_theta[ix.xlabel], marker=\".\", label=\"Theta Estimates\")\n",
    "\n",
    "ax.set_ylim([-0.05, 1.05])\n",
    "ax.set(title=\"IX Curve 1\\nTesting Initial Guess\", xlabel=\"BV\", ylabel=\"C/C0\")\n",
    "ax.grid(visible=True, zorder=0)\n",
    "ax.legend()"
   ]
  },
  {
   "cell_type": "code",
   "execution_count": null,
   "id": "5817085c",
   "metadata": {},
   "outputs": [],
   "source": [
    "ix_parmest_results = pd.read_csv(f\"results/ix_parmest_results.csv\")"
   ]
  },
  {
   "cell_type": "markdown",
   "id": "9281b180",
   "metadata": {},
   "source": [
    "<p align=\"center\">\n",
    "    <img src=\"ix_gac_parmest/images/ix_parmest_results.png\" alt=\"Breakthrough Curve\" width=\"800\"/>\n",
    "</p>"
   ]
  },
  {
   "cell_type": "code",
   "execution_count": null,
   "id": "103712d5",
   "metadata": {},
   "outputs": [],
   "source": []
  },
  {
   "cell_type": "code",
   "execution_count": null,
   "id": "a1195530",
   "metadata": {},
   "outputs": [],
   "source": []
  },
  {
   "cell_type": "markdown",
   "id": "f62a0654",
   "metadata": {},
   "source": [
    "# Repeat for GAC"
   ]
  },
  {
   "cell_type": "code",
   "execution_count": null,
   "id": "2029d66e",
   "metadata": {},
   "outputs": [],
   "source": []
  },
  {
   "cell_type": "code",
   "execution_count": null,
   "id": "0b5b3c2c",
   "metadata": {},
   "outputs": [],
   "source": []
  }
 ],
 "metadata": {
  "kernelspec": {
   "display_name": "watertap-dev",
   "language": "python",
   "name": "python3"
  },
  "language_info": {
   "codemirror_mode": {
    "name": "ipython",
    "version": 3
   },
   "file_extension": ".py",
   "mimetype": "text/x-python",
   "name": "python",
   "nbconvert_exporter": "python",
   "pygments_lexer": "ipython3",
   "version": "3.10.18"
  }
 },
 "nbformat": 4,
 "nbformat_minor": 5
}
