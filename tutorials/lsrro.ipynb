{
 "cells": [
  {
   "cell_type": "markdown",
   "metadata": {
    "editable": true,
    "slideshow": {
     "slide_type": ""
    },
    "tags": []
   },
   "source": [
    "# Introduction to the Low-salt-rejection Reverse Osmosis (LSRRO) Flowsheet\n",
    "This tutorial shows how to build, initialize, simulate, and optimize an LSRRO flowsheet using WaterTAP."
   ]
  },
  {
   "cell_type": "markdown",
   "metadata": {},
   "source": [
    "![alt text](../docs/_static/flowsheets/lsrro.png)"
   ]
  },
  {
   "cell_type": "markdown",
   "metadata": {},
   "source": [
    "## High-level Preview: Run an LSRRO optimization case.\n",
    "#### 3-stage system\n",
    "#### 70 g/L TDS feed, 50% Recovery\n"
   ]
  },
  {
   "cell_type": "code",
   "execution_count": 1,
   "metadata": {
    "editable": true,
    "slideshow": {
     "slide_type": ""
    },
    "tags": []
   },
   "outputs": [],
   "source": [
    "from watertap.flowsheets.lsrro.lsrro import (\n",
    "    ACase,\n",
    "    BCase,\n",
    "    ABTradeoff,\n",
    "    run_lsrro_case,\n",
    ")\n",
    "import logging\n",
    "logging.getLogger(\"idaes\").setLevel(logging.ERROR)\n",
    "logging.getLogger(\"pyomo\").setLevel(logging.ERROR)"
   ]
  },
  {
   "cell_type": "code",
   "execution_count": 2,
   "metadata": {
    "editable": true,
    "slideshow": {
     "slide_type": ""
    },
    "tags": []
   },
   "outputs": [
    {
     "name": "stdout",
     "output_type": "stream",
     "text": [
      "Feed Concentration = 70.0 ppt\n",
      "The current configuration is infeasible. Please adjust the decision variables.\n",
      "\n",
      "***---Simulation results---***\n",
      "Simulation failed. The current configuration is infeasible. Please adjust the decision variables.\n",
      "\n",
      "***---Optimization results---***\n",
      "----system metrics----\n",
      "Feed: 1.05 kg/s, 66946 ppm\n",
      "Product: 0.498 kg/s, 500 ppm\n",
      "Brine: 0.548 kg/s, 127301 ppm\n",
      "Volumetric water recovery: 50.0%\n",
      "Number of Stages: 3\n",
      "Total Membrane Area: 264.66\n",
      "Energy Consumption: 8.8 kWh/m3\n",
      "Levelized cost of water: 1.95 $/m3\n",
      "Primary Pump Capital Cost ($/m3):0.5469168349767148\n",
      "Booster Pump Capital Cost ($/m3): 0.1781879544453431\n",
      "ERD Capital Cost ($/m3):0.044801159891790315\n",
      "Membrane Capital Cost ($/m3): 0.16242752679371086\n",
      "Indirect Capital Cost ($/m3): 0.4661667380537794\n",
      "Electricity cost ($/m3): 0.6194467724701601\n",
      "\n",
      "\n",
      "--decision variables--\n",
      "Stage 1 operating pressure 85.0 bar\n",
      "Stage 1 membrane area      85.0 m2\n",
      "Stage 1 water perm. coeff.  1.5 LMH/bar\n",
      "Stage 1 salt perm. coeff.  0.1 LMH\n",
      "Stage 2 operating pressure 65.0 bar\n",
      "Stage 2 membrane area      126.0 m2\n",
      "Stage 2 water perm. coeff.  9.5 LMH/bar\n",
      "Stage 2 salt perm. coeff.  11.4 LMH\n",
      "Stage 3 operating pressure 65.0 bar\n",
      "Stage 3 membrane area      53.6 m2\n",
      "Stage 3 water perm. coeff.  9.8 LMH/bar\n",
      "Stage 3 salt perm. coeff.  12.6 LMH\n",
      "--------state---------\n",
      "Feed                : 1.046 kg/s, 66946 ppm, 1.0 bar\n",
      "Primary Pump 1 out  : 1.046 kg/s, 66946 ppm, 85.0 bar\n",
      "Mixer 1 recycle     : 0.665 kg/s, 41091 ppm, 85.0 bar\n",
      "Mixer 1 out         : 1.711 kg/s, 56891 ppm, 85.0 bar\n",
      "RO 1 permeate       : 0.498 kg/s, 500 ppm, 1.0 bar\n",
      "RO 1 retentate      : 1.213 kg/s, 80022 ppm, 82.8 bar\n",
      "Primary Pump 2 out  : 1.213 kg/s, 80022 ppm, 65.0 bar\n",
      "Mixer 2 recycle     : 0.180 kg/s, 67723 ppm, 65.0 bar\n",
      "Mixer 2 out         : 1.393 kg/s, 78432 ppm, 65.0 bar\n",
      "RO 2 permeate       : 0.665 kg/s, 41091 ppm, 1.0 bar\n",
      "RO 2 retentate      : 0.728 kg/s, 112565 ppm, 63.2 bar\n",
      "Booster Pump 2 out  : 0.665 kg/s, 41091 ppm, 85.0 bar\n",
      "Primary Pump 3 out  : 0.728 kg/s, 112565 ppm, 65.0 bar\n",
      "RO 3 permeate       : 0.180 kg/s, 67723 ppm, 1.0 bar\n",
      "RO 3 retentate      : 0.548 kg/s, 127301 ppm, 63.9 bar\n",
      "Booster Pump 3 out  : 0.180 kg/s, 67723 ppm, 65.0 bar\n",
      "Disposal            : 0.548 kg/s, 127301 ppm, 1.0 bar\n",
      "Product             : 0.498 kg/s, 500 ppm, 1.0 bar\n",
      "\n",
      "====================================================================================\n",
      "Unit : fs.ROUnits[1]                                                       Time: 0.0\n",
      "------------------------------------------------------------------------------------\n",
      "    Unit Performance\n",
      "\n",
      "    Variables: \n",
      "\n",
      "    Key                                            : Value       : Units                 : Fixed : Bounds\n",
      "                                Hydraulic Diameter :   0.0010625 :                 meter : False : (0.0001, 0.005)\n",
      "                                     Membrane Area :      85.002 :            meter ** 2 : False : (1, 20000)\n",
      "                                   Membrane Length :      9.5333 :                 meter : False : (0.1, 500.0)\n",
      "                                    Membrane Width :      8.9163 :                 meter : False : (0.1, 1000)\n",
      "                    NaCl Concentration @Inlet,Bulk :      59.054 : kilogram / meter ** 3 : False : (0.001, 2000.0)\n",
      "     NaCl Concentration @Inlet,Membrane-Interface  :      75.791 : kilogram / meter ** 3 : False : (0.001, 2000.0)\n",
      "                   NaCl Concentration @Outlet,Bulk :      84.463 : kilogram / meter ** 3 : False : (0.001, 2000.0)\n",
      "    NaCl Concentration @Outlet,Membrane-Interface  :      90.858 : kilogram / meter ** 3 : False : (0.001, 2000.0)\n",
      "                       NaCl Permeate Concentration :     0.49769 : kilogram / meter ** 3 : False : (0.001, 2000.0)\n",
      "        Osmotic Pressure @Inlet,Membrane-Interface :  6.1680e+06 :                pascal : False : (500.0, 50000000.0)\n",
      "      Osmotic Pressure @Outlet,Membrane-Interface  :  7.5228e+06 :                pascal : False : (500.0, 50000000.0)\n",
      "                                   Pressure Change : -2.1891e+05 :                pascal : False : (-1000000.0, 0)\n",
      "                            Reynolds Number @Inlet :      217.61 :         dimensionless : False : (10, 5000.0)\n",
      "                           Reynolds Number @Outlet :      147.65 :         dimensionless : False : (10, 5000.0)\n",
      "                        Solvent Mass Recovery Rate :     0.30826 :         dimensionless : False : (0.01, 0.999999)\n",
      "                                   Velocity @Inlet :     0.21750 :        meter / second : False : (0.01, 5)\n",
      "                                  Velocity @Outlet :     0.15168 :        meter / second : False : (0.01, 5)\n",
      "                        Volumetric Flowrate @Inlet :   0.0016484 :   meter ** 3 / second : False : (0.0, None)\n",
      "                       Volumetric Flowrate @Outlet :   0.0011495 :   meter ** 3 / second : False : (0.0, None)\n",
      "                          Volumetric Recovery Rate :     0.30333 :         dimensionless : False : (None, None)\n",
      "\n",
      "    Expressions: \n",
      "\n",
      "    Key                                    : Value      : Units\n",
      "                   Average Reynolds Number :     193.97 : dimensionless\n",
      "                 Average Solvent Mass Flux :  0.0058521 : kilogram / meter ** 2 / second\n",
      "    NaCl Average Mass Transfer Coefficient : 4.3824e-05 : meter / second\n",
      "             NaCl Average Solute Mass Flux : 2.9275e-06 : kilogram / meter ** 2 / second\n",
      "\n",
      "------------------------------------------------------------------------------------\n",
      "    Stream Table\n",
      "                                               Units         Feed Inlet  Feed Outlet  Permeate Outlet\n",
      "    flow_mass_phase_comp ('Liq', 'H2O')   kilogram / second      1.6137      1.1162        0.49744   \n",
      "    flow_mass_phase_comp ('Liq', 'NaCl')  kilogram / second    0.097342    0.097094     0.00024884   \n",
      "    temperature                                      kelvin      293.15      293.15         293.15   \n",
      "    pressure                                         pascal  8.5000e+06  8.2811e+06     1.0132e+05   \n",
      "====================================================================================\n",
      "\n",
      "====================================================================================\n",
      "Unit : fs.ROUnits[2]                                                       Time: 0.0\n",
      "------------------------------------------------------------------------------------\n",
      "    Unit Performance\n",
      "\n",
      "    Variables: \n",
      "\n",
      "    Key                                            : Value       : Units                 : Fixed : Bounds\n",
      "                                Hydraulic Diameter :   0.0010625 :                 meter : False : (0.0001, 0.005)\n",
      "                                     Membrane Area :      126.03 :            meter ** 2 : False : (1, 20000)\n",
      "                                   Membrane Length :      13.177 :                 meter : False : (0.1, 500.0)\n",
      "                                    Membrane Width :      9.5641 :                 meter : False : (0.1, 1000)\n",
      "                    NaCl Concentration @Inlet,Bulk :      82.691 : kilogram / meter ** 3 : False : (0.001, 2000.0)\n",
      "     NaCl Concentration @Inlet,Membrane-Interface  :      99.159 : kilogram / meter ** 3 : False : (0.001, 2000.0)\n",
      "                   NaCl Concentration @Outlet,Bulk :      121.58 : kilogram / meter ** 3 : False : (0.001, 2000.0)\n",
      "    NaCl Concentration @Outlet,Membrane-Interface  :      127.43 : kilogram / meter ** 3 : False : (0.001, 2000.0)\n",
      "                       NaCl Permeate Concentration :      42.162 : kilogram / meter ** 3 : False : (0.001, 2000.0)\n",
      "        Osmotic Pressure @Inlet,Membrane-Interface :  8.2944e+06 :                pascal : False : (500.0, 50000000.0)\n",
      "      Osmotic Pressure @Outlet,Membrane-Interface  :  1.1075e+07 :                pascal : False : (500.0, 50000000.0)\n",
      "                                   Pressure Change : -1.8390e+05 :                pascal : False : (-1000000.0, 0)\n",
      "                            Reynolds Number @Inlet :      158.55 :         dimensionless : False : (10, 5000.0)\n",
      "                           Reynolds Number @Outlet :      77.860 :         dimensionless : False : (10, 5000.0)\n",
      "                        Solvent Mass Recovery Rate :     0.49690 :         dimensionless : False : (0.01, 0.999999)\n",
      "                                   Velocity @Inlet :     0.16257 :        meter / second : False : (0.01, 5)\n",
      "                                  Velocity @Outlet :    0.082908 :        meter / second : False : (0.01, 5)\n",
      "                        Volumetric Flowrate @Inlet :   0.0013216 :   meter ** 3 / second : False : (0.0, None)\n",
      "                       Volumetric Flowrate @Outlet :  0.00067400 :   meter ** 3 / second : False : (0.0, None)\n",
      "                          Volumetric Recovery Rate :     0.49069 :         dimensionless : False : (None, None)\n",
      "\n",
      "    Expressions: \n",
      "\n",
      "    Key                                    : Value      : Units\n",
      "                   Average Reynolds Number :     123.38 : dimensionless\n",
      "                 Average Solvent Mass Flux :  0.0050631 : kilogram / meter ** 2 / second\n",
      "    NaCl Average Mass Transfer Coefficient : 3.7634e-05 : meter / second\n",
      "             NaCl Average Solute Mass Flux : 0.00021696 : kilogram / meter ** 2 / second\n",
      "\n",
      "------------------------------------------------------------------------------------\n",
      "    Stream Table\n",
      "                                               Units         Feed Inlet  Feed Outlet  Permeate Outlet\n",
      "    flow_mass_phase_comp ('Liq', 'H2O')   kilogram / second      1.2841     0.64604        0.63808   \n",
      "    flow_mass_phase_comp ('Liq', 'NaCl')  kilogram / second     0.10929    0.081946       0.027342   \n",
      "    temperature                                      kelvin      293.15      293.15         293.15   \n",
      "    pressure                                         pascal  6.5000e+06  6.3161e+06     1.0132e+05   \n",
      "====================================================================================\n",
      "\n",
      "====================================================================================\n",
      "Unit : fs.ROUnits[3]                                                       Time: 0.0\n",
      "------------------------------------------------------------------------------------\n",
      "    Unit Performance\n",
      "\n",
      "    Variables: \n",
      "\n",
      "    Key                                            : Value       : Units                 : Fixed : Bounds\n",
      "                                Hydraulic Diameter :   0.0010625 :                 meter : False : (0.0001, 0.005)\n",
      "                                     Membrane Area :      53.635 :            meter ** 2 : False : (1, 20000)\n",
      "                                   Membrane Length :      8.1801 :                 meter : False : (0.1, 500.0)\n",
      "                                    Membrane Width :      6.5568 :                 meter : False : (0.1, 1000)\n",
      "                    NaCl Concentration @Inlet,Bulk :      121.58 : kilogram / meter ** 3 : False : (0.001, 2000.0)\n",
      "     NaCl Concentration @Inlet,Membrane-Interface  :      129.30 : kilogram / meter ** 3 : False : (0.001, 2000.0)\n",
      "                   NaCl Concentration @Outlet,Bulk :      138.92 : kilogram / meter ** 3 : False : (0.001, 2000.0)\n",
      "    NaCl Concentration @Outlet,Membrane-Interface  :      143.36 : kilogram / meter ** 3 : False : (0.001, 2000.0)\n",
      "                       NaCl Permeate Concentration :      70.851 : kilogram / meter ** 3 : False : (0.001, 2000.0)\n",
      "        Osmotic Pressure @Inlet,Membrane-Interface :  1.1267e+07 :                pascal : False : (500.0, 50000000.0)\n",
      "      Osmotic Pressure @Outlet,Membrane-Interface  :  1.2756e+07 :                pascal : False : (500.0, 50000000.0)\n",
      "                                   Pressure Change : -1.0640e+05 :                pascal : False : (-1000000.0, 0)\n",
      "                            Reynolds Number @Inlet :      113.57 :         dimensionless : False : (10, 5000.0)\n",
      "                           Reynolds Number @Outlet :      83.319 :         dimensionless : False : (10, 5000.0)\n",
      "                        Solvent Mass Recovery Rate :     0.25984 :         dimensionless : False : (0.01, 0.999999)\n",
      "                                   Velocity @Inlet :     0.12093 :        meter / second : False : (0.01, 5)\n",
      "                                  Velocity @Outlet :    0.090092 :        meter / second : False : (0.01, 5)\n",
      "                        Volumetric Flowrate @Inlet :  0.00067400 :   meter ** 3 / second : False : (0.0, None)\n",
      "                       Volumetric Flowrate @Outlet :  0.00050211 :   meter ** 3 / second : False : (0.0, None)\n",
      "                          Volumetric Recovery Rate :     0.25536 :         dimensionless : False : (None, None)\n",
      "\n",
      "    Expressions: \n",
      "\n",
      "    Key                                    : Value      : Units\n",
      "                   Average Reynolds Number :     107.39 : dimensionless\n",
      "                 Average Solvent Mass Flux :  0.0031298 : kilogram / meter ** 2 / second\n",
      "    NaCl Average Mass Transfer Coefficient : 3.6951e-05 : meter / second\n",
      "             NaCl Average Solute Mass Flux : 0.00022736 : kilogram / meter ** 2 / second\n",
      "\n",
      "------------------------------------------------------------------------------------\n",
      "    Stream Table\n",
      "                                               Units         Feed Inlet  Feed Outlet  Permeate Outlet\n",
      "    flow_mass_phase_comp ('Liq', 'H2O')   kilogram / second     0.64604     0.47817        0.16787   \n",
      "    flow_mass_phase_comp ('Liq', 'NaCl')  kilogram / second    0.081946    0.069751       0.012194   \n",
      "    temperature                                      kelvin      293.15      293.15         293.15   \n",
      "    pressure                                         pascal  6.5000e+06  6.3936e+06     1.0132e+05   \n",
      "====================================================================================\n"
     ]
    }
   ],
   "source": [
    "# %%capture \n",
    "m, results = run_lsrro_case(\n",
    "    number_of_stages=3,\n",
    "    water_recovery=0.50,\n",
    "    Cin=70,  # inlet NaCl conc kg/m3,\n",
    "    Qin=1e-3,  # inlet feed flowrate m3/s\n",
    "    A_case=ACase.optimize,\n",
    "    B_case=BCase.optimize,\n",
    "    AB_tradeoff=ABTradeoff.equality_constraint,\n",
    "    has_NaCl_solubility_limit=True,\n",
    "    has_calculated_concentration_polarization=True,\n",
    "    has_calculated_ro_pressure_drop=True,\n",
    "    permeate_quality_limit=500e-6,\n",
    "    AB_gamma_factor=1,\n",
    "    B_max=3.5e-6,\n",
    "    number_of_RO_finite_elements=10,\n",
    "    skip_initialization=True\n",
    ")\n"
   ]
  },
  {
   "cell_type": "markdown",
   "metadata": {},
   "source": [
    "## Overview of setting up and optimizing the LSRRO flowsheet--step by step.\n",
    "* Step 0: Import Python libraries.\n",
    "* Step 1: Build the LSRRO flowsheet.\n",
    "* Step 2: Set specifications for LSRRO flowsheet.\n",
    "* Step 3: Initialize the LSRRO flowsheet.\n",
    "* Step 4: Optimize the LSRRO flowsheet.\n",
    "* Step 5: Visualize results."
   ]
  },
  {
   "cell_type": "markdown",
   "metadata": {},
   "source": [
    "## Step 0: Import libraries."
   ]
  },
  {
   "cell_type": "code",
   "execution_count": 3,
   "metadata": {},
   "outputs": [],
   "source": [
    "# Import LSRRO flowsheet module\n",
    "from watertap.flowsheets.lsrro import lsrro"
   ]
  },
  {
   "cell_type": "markdown",
   "metadata": {},
   "source": [
    "## Step 1: Build the LSRRO flowsheet."
   ]
  },
  {
   "cell_type": "code",
   "execution_count": 4,
   "metadata": {},
   "outputs": [],
   "source": [
    "# Create a Pyomo concrete model, flowsheet, and NaCl property parameter block.\n",
    "m = lsrro.build(\n",
    "    number_of_stages=3,\n",
    "    has_NaCl_solubility_limit=True,\n",
    "    has_calculated_concentration_polarization=True,\n",
    "    has_calculated_ro_pressure_drop=True,\n",
    ")\n"
   ]
  },
  {
   "cell_type": "markdown",
   "metadata": {},
   "source": [
    "## Step 2: Set specifications for the LSRRO flowsheet."
   ]
  },
  {
   "cell_type": "code",
   "execution_count": 5,
   "metadata": {},
   "outputs": [
    {
     "name": "stdout",
     "output_type": "stream",
     "text": [
      "Feed Concentration = 70.0 ppt\n"
     ]
    }
   ],
   "source": [
    "lsrro.set_operating_conditions(m)"
   ]
  },
  {
   "cell_type": "markdown",
   "metadata": {},
   "source": [
    "## Step 3: Initialize the LSRRO flowsheet model."
   ]
  },
  {
   "cell_type": "code",
   "execution_count": 6,
   "metadata": {},
   "outputs": [
    {
     "name": "stdout",
     "output_type": "stream",
     "text": [
      "--------------------START FORWARD INITIALIZATION PASS--------------------\n",
      "--------------------START BACKWARD INITIALIZATION PASS--------------------\n",
      "--------------------START FORWARD INITIALIZATION PASS--------------------\n",
      "INFO: Starting Sequential Decomposition\n",
      "INFO: Starting first pass run of network\n",
      "2025-08-25 14:21:45 [INFO] idaes.init.fs.feed: Initialization Complete.\n",
      "2025-08-25 14:21:46 [INFO] idaes.init.fs.PrimaryPumps[1].control_volume: Initialization Complete\n",
      "2025-08-25 14:21:46 [INFO] idaes.init.fs.PrimaryPumps[1]: Initialization Complete: optimal - Optimal Solution Found\n",
      "2025-08-25 14:21:47 [INFO] idaes.init.fs.Mixers[1]: Initialization Complete: optimal - Optimal Solution Found\n",
      "2025-08-25 14:21:47 [INFO] idaes.init.fs.ROUnits[1].feed_side: Initialization Complete\n",
      "2025-08-25 14:21:49 [INFO] idaes.init.fs.ROUnits[1]: Initialization Complete: optimal - Optimal Solution Found\n",
      "2025-08-25 14:21:50 [INFO] idaes.init.fs.EnergyRecoveryDevices[1].control_volume: Initialization Complete\n",
      "2025-08-25 14:21:50 [INFO] idaes.init.fs.EnergyRecoveryDevices[1]: Initialization Complete: optimal - Optimal Solution Found\n",
      "2025-08-25 14:21:50 [INFO] idaes.init.fs.product: Initialization Complete.\n",
      "2025-08-25 14:21:51 [INFO] idaes.init.fs.PrimaryPumps[2].control_volume: Initialization Complete\n",
      "2025-08-25 14:21:51 [INFO] idaes.init.fs.PrimaryPumps[2]: Initialization Complete: optimal - Optimal Solution Found\n",
      "2025-08-25 14:21:52 [INFO] idaes.init.fs.Mixers[2]: Initialization Complete: optimal - Optimal Solution Found\n",
      "2025-08-25 14:21:52 [INFO] idaes.init.fs.ROUnits[2].feed_side: Initialization Complete\n",
      "2025-08-25 14:21:55 [INFO] idaes.init.fs.ROUnits[2]: Initialization Complete: optimal - Optimal Solution Found\n",
      "2025-08-25 14:21:55 [INFO] idaes.init.fs.BoosterPumps[2].control_volume: Initialization Complete\n",
      "2025-08-25 14:21:55 [INFO] idaes.init.fs.BoosterPumps[2]: Initialization Complete: optimal - Optimal Solution Found\n",
      "2025-08-25 14:21:56 [INFO] idaes.init.fs.PrimaryPumps[3].control_volume: Initialization Complete\n",
      "2025-08-25 14:21:56 [INFO] idaes.init.fs.PrimaryPumps[3]: Initialization Complete: optimal - Optimal Solution Found\n",
      "2025-08-25 14:21:56 [INFO] idaes.init.fs.ROUnits[3].feed_side: Initialization Complete\n",
      "2025-08-25 14:21:58 [INFO] idaes.init.fs.ROUnits[3]: Initialization Complete: optimal - Optimal Solution Found\n",
      "2025-08-25 14:21:59 [INFO] idaes.init.fs.BoosterPumps[3].control_volume: Initialization Complete\n",
      "2025-08-25 14:21:59 [INFO] idaes.init.fs.BoosterPumps[3]: Initialization Complete: optimal - Optimal Solution Found\n",
      "2025-08-25 14:21:59 [INFO] idaes.init.fs.EnergyRecoveryDevices[3].control_volume: Initialization Complete\n",
      "2025-08-25 14:22:00 [INFO] idaes.init.fs.EnergyRecoveryDevices[3]: Initialization Complete: optimal - Optimal Solution Found\n",
      "2025-08-25 14:22:00 [INFO] idaes.init.fs.disposal: Initialization Complete.\n",
      "INFO: Starting tear convergence procedure\n",
      "2025-08-25 14:22:00 [INFO] idaes.init.fs.feed: Initialization Complete.\n",
      "2025-08-25 14:22:01 [INFO] idaes.init.fs.PrimaryPumps[1].control_volume: Initialization Complete\n",
      "2025-08-25 14:22:01 [INFO] idaes.init.fs.PrimaryPumps[1]: Initialization Complete: optimal - Optimal Solution Found\n",
      "INFO: Starting Direct tear convergence\n",
      "INFO: Running Direct iteration 1\n",
      "2025-08-25 14:22:02 [INFO] idaes.init.fs.Mixers[1]: Initialization Complete: optimal - Optimal Solution Found\n",
      "2025-08-25 14:22:02 [INFO] idaes.init.fs.ROUnits[1].feed_side: Initialization Complete\n",
      "2025-08-25 14:22:04 [INFO] idaes.init.fs.ROUnits[1]: Initialization Complete: optimal - Optimal Solution Found\n",
      "2025-08-25 14:22:05 [INFO] idaes.init.fs.EnergyRecoveryDevices[1].control_volume: Initialization Complete\n",
      "2025-08-25 14:22:05 [INFO] idaes.init.fs.EnergyRecoveryDevices[1]: Initialization Complete: optimal - Optimal Solution Found\n",
      "2025-08-25 14:22:05 [INFO] idaes.init.fs.PrimaryPumps[2].control_volume: Initialization Complete\n",
      "2025-08-25 14:22:06 [INFO] idaes.init.fs.PrimaryPumps[2]: Initialization Complete: optimal - Optimal Solution Found\n",
      "2025-08-25 14:22:07 [INFO] idaes.init.fs.Mixers[2]: Initialization Complete: optimal - Optimal Solution Found\n",
      "2025-08-25 14:22:07 [INFO] idaes.init.fs.ROUnits[2].feed_side: Initialization Complete\n",
      "2025-08-25 14:22:09 [INFO] idaes.init.fs.ROUnits[2]: Initialization Complete: optimal - Optimal Solution Found\n",
      "2025-08-25 14:22:10 [INFO] idaes.init.fs.PrimaryPumps[3].control_volume: Initialization Complete\n",
      "2025-08-25 14:22:10 [INFO] idaes.init.fs.PrimaryPumps[3]: Initialization Complete: optimal - Optimal Solution Found\n",
      "2025-08-25 14:22:10 [INFO] idaes.init.fs.BoosterPumps[2].control_volume: Initialization Complete\n",
      "2025-08-25 14:22:11 [INFO] idaes.init.fs.BoosterPumps[2]: Initialization Complete: optimal - Optimal Solution Found\n",
      "2025-08-25 14:22:11 [INFO] idaes.init.fs.ROUnits[3].feed_side: Initialization Complete\n",
      "2025-08-25 14:22:13 [INFO] idaes.init.fs.ROUnits[3]: Initialization Complete: optimal - Optimal Solution Found\n",
      "2025-08-25 14:22:14 [INFO] idaes.init.fs.BoosterPumps[3].control_volume: Initialization Complete\n",
      "2025-08-25 14:22:14 [INFO] idaes.init.fs.BoosterPumps[3]: Initialization Complete: optimal - Optimal Solution Found\n",
      "INFO: Running Direct iteration 2\n",
      "2025-08-25 14:22:15 [INFO] idaes.init.fs.Mixers[1]: Initialization Complete: optimal - Optimal Solution Found\n",
      "2025-08-25 14:22:15 [INFO] idaes.init.fs.ROUnits[1].feed_side: Initialization Complete\n",
      "2025-08-25 14:22:17 [INFO] idaes.init.fs.ROUnits[1]: Initialization Complete: optimal - Optimal Solution Found\n",
      "2025-08-25 14:22:18 [INFO] idaes.init.fs.EnergyRecoveryDevices[1].control_volume: Initialization Complete\n",
      "2025-08-25 14:22:18 [INFO] idaes.init.fs.EnergyRecoveryDevices[1]: Initialization Complete: optimal - Optimal Solution Found\n",
      "2025-08-25 14:22:18 [INFO] idaes.init.fs.PrimaryPumps[2].control_volume: Initialization Complete\n",
      "2025-08-25 14:22:19 [INFO] idaes.init.fs.PrimaryPumps[2]: Initialization Complete: optimal - Optimal Solution Found\n",
      "2025-08-25 14:22:20 [INFO] idaes.init.fs.Mixers[2]: Initialization Complete: optimal - Optimal Solution Found\n",
      "2025-08-25 14:22:20 [INFO] idaes.init.fs.ROUnits[2].feed_side: Initialization Complete\n",
      "2025-08-25 14:22:22 [INFO] idaes.init.fs.ROUnits[2]: Initialization Complete: optimal - Optimal Solution Found\n",
      "2025-08-25 14:22:22 [INFO] idaes.init.fs.PrimaryPumps[3].control_volume: Initialization Complete\n",
      "2025-08-25 14:22:23 [INFO] idaes.init.fs.PrimaryPumps[3]: Initialization Complete: optimal - Optimal Solution Found\n",
      "2025-08-25 14:22:23 [INFO] idaes.init.fs.BoosterPumps[2].control_volume: Initialization Complete\n",
      "2025-08-25 14:22:23 [INFO] idaes.init.fs.BoosterPumps[2]: Initialization Complete: optimal - Optimal Solution Found\n",
      "2025-08-25 14:22:24 [INFO] idaes.init.fs.ROUnits[3].feed_side: Initialization Complete\n",
      "2025-08-25 14:22:26 [INFO] idaes.init.fs.ROUnits[3]: Initialization Complete: optimal - Optimal Solution Found\n",
      "2025-08-25 14:22:26 [INFO] idaes.init.fs.BoosterPumps[3].control_volume: Initialization Complete\n",
      "2025-08-25 14:22:26 [INFO] idaes.init.fs.BoosterPumps[3]: Initialization Complete: optimal - Optimal Solution Found\n",
      "INFO: Running Direct iteration 3\n",
      "2025-08-25 14:22:27 [INFO] idaes.init.fs.Mixers[1]: Initialization Complete: optimal - Optimal Solution Found\n",
      "2025-08-25 14:22:27 [INFO] idaes.init.fs.ROUnits[1].feed_side: Initialization Complete\n",
      "2025-08-25 14:22:29 [INFO] idaes.init.fs.ROUnits[1]: Initialization Complete: optimal - Optimal Solution Found\n",
      "2025-08-25 14:22:30 [INFO] idaes.init.fs.EnergyRecoveryDevices[1].control_volume: Initialization Complete\n",
      "2025-08-25 14:22:30 [INFO] idaes.init.fs.EnergyRecoveryDevices[1]: Initialization Complete: optimal - Optimal Solution Found\n",
      "2025-08-25 14:22:31 [INFO] idaes.init.fs.PrimaryPumps[2].control_volume: Initialization Complete\n",
      "2025-08-25 14:22:31 [INFO] idaes.init.fs.PrimaryPumps[2]: Initialization Complete: optimal - Optimal Solution Found\n",
      "2025-08-25 14:22:32 [INFO] idaes.init.fs.Mixers[2]: Initialization Complete: optimal - Optimal Solution Found\n",
      "2025-08-25 14:22:32 [INFO] idaes.init.fs.ROUnits[2].feed_side: Initialization Complete\n",
      "2025-08-25 14:22:35 [INFO] idaes.init.fs.ROUnits[2]: Initialization Complete: optimal - Optimal Solution Found\n",
      "2025-08-25 14:22:35 [INFO] idaes.init.fs.PrimaryPumps[3].control_volume: Initialization Complete\n",
      "2025-08-25 14:22:35 [INFO] idaes.init.fs.PrimaryPumps[3]: Initialization Complete: optimal - Optimal Solution Found\n",
      "2025-08-25 14:22:36 [INFO] idaes.init.fs.BoosterPumps[2].control_volume: Initialization Complete\n",
      "2025-08-25 14:22:36 [INFO] idaes.init.fs.BoosterPumps[2]: Initialization Complete: optimal - Optimal Solution Found\n",
      "2025-08-25 14:22:36 [INFO] idaes.init.fs.ROUnits[3].feed_side: Initialization Complete\n",
      "2025-08-25 14:22:38 [INFO] idaes.init.fs.ROUnits[3]: Initialization Complete: optimal - Optimal Solution Found\n",
      "2025-08-25 14:22:38 [INFO] idaes.init.fs.BoosterPumps[3].control_volume: Initialization Complete\n",
      "2025-08-25 14:22:39 [INFO] idaes.init.fs.BoosterPumps[3]: Initialization Complete: optimal - Optimal Solution Found\n",
      "WARNING: Direct failed to converge in fs.NumberOfStages iterations\n",
      "2025-08-25 14:22:39 [INFO] idaes.init.fs.product: Initialization Complete.\n",
      "2025-08-25 14:22:39 [INFO] idaes.init.fs.EnergyRecoveryDevices[3].control_volume: Initialization Complete\n",
      "2025-08-25 14:22:40 [INFO] idaes.init.fs.EnergyRecoveryDevices[3]: Initialization Complete: optimal - Optimal Solution Found\n",
      "2025-08-25 14:22:40 [INFO] idaes.init.fs.disposal: Initialization Complete.\n",
      "INFO: Finished Sequential Decomposition in 55.01 seconds\n"
     ]
    }
   ],
   "source": [
    "lsrro.initialize(m)"
   ]
  },
  {
   "cell_type": "markdown",
   "metadata": {},
   "source": [
    "## Step 4: Simulate the LSRRO flowsheet."
   ]
  },
  {
   "cell_type": "code",
   "execution_count": 7,
   "metadata": {},
   "outputs": [
    {
     "data": {
      "text/plain": [
       "{'Problem': [{'Lower bound': -inf, 'Upper bound': inf, 'Number of objectives': 1, 'Number of constraints': 2039, 'Number of variables': 2039, 'Sense': 'unknown'}], 'Solver': [{'Status': 'ok', 'Message': 'Ipopt 3.13.2\\\\x3a Optimal Solution Found', 'Termination condition': 'optimal', 'Id': 0, 'Error rc': 0, 'Time': 0.22198796272277832}], 'Solution': [OrderedDict([('number of solutions', 0), ('number of solutions displayed', 0)])]}"
      ]
     },
     "execution_count": 7,
     "metadata": {},
     "output_type": "execute_result"
    }
   ],
   "source": [
    "lsrro.solve(m)\n"
   ]
  },
  {
   "cell_type": "markdown",
   "metadata": {},
   "source": [
    "## Step 5: Optimize the LSRRO flowsheet."
   ]
  },
  {
   "cell_type": "code",
   "execution_count": 8,
   "metadata": {},
   "outputs": [],
   "source": [
    "lsrro.optimize_set_up(m,\n",
    "    water_recovery=0.5,\n",
    "    A_case=ACase.optimize,\n",
    "    B_case=BCase.optimize,\n",
    "    AB_tradeoff=ABTradeoff.equality_constraint,\n",
    "    permeate_quality_limit=500e-6,\n",
    "    )\n",
    "optimization_results = lsrro.solve(m, raise_on_failure=True)"
   ]
  },
  {
   "cell_type": "markdown",
   "metadata": {},
   "source": [
    "## "
   ]
  },
  {
   "cell_type": "markdown",
   "metadata": {},
   "source": [
    "## Step 6: Visualize results"
   ]
  },
  {
   "cell_type": "code",
   "execution_count": null,
   "metadata": {},
   "outputs": [
    {
     "data": {
      "text/plain": [
       "<pyomo.core.base.var.ScalarVar at 0x22bf826d150>"
      ]
     },
     "execution_count": 9,
     "metadata": {},
     "output_type": "execute_result"
    }
   ],
   "source": [
    "#TODO"
   ]
  }
 ],
 "metadata": {
  "kernelspec": {
   "display_name": "watertap-dev",
   "language": "python",
   "name": "watertap-dev"
  },
  "language_info": {
   "codemirror_mode": {
    "name": "ipython",
    "version": 3
   },
   "file_extension": ".py",
   "mimetype": "text/x-python",
   "name": "python",
   "nbconvert_exporter": "python",
   "pygments_lexer": "ipython3",
   "version": "3.11.13"
  }
 },
 "nbformat": 4,
 "nbformat_minor": 4
}
