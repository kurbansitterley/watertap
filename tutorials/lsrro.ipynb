{
 "cells": [
  {
   "cell_type": "markdown",
   "metadata": {
    "editable": true,
    "slideshow": {
     "slide_type": ""
    },
    "tags": []
   },
   "source": [
    "# Introduction to the Low-salt-rejection Reverse Osmosis (LSRRO) Flowsheet\n",
    "This tutorial shows how to build, initialize, simulate, and optimize an LSRRO flowsheet using WaterTAP."
   ]
  },
  {
   "cell_type": "markdown",
   "metadata": {},
   "source": [
    "![alt text](../docs/_static/flowsheets/lsrro.png)"
   ]
  },
  {
   "cell_type": "markdown",
   "metadata": {},
   "source": [
    "## High-level Preview: Run an LSRRO optimization case.\n",
    "#### 3-stage system\n",
    "#### 70 g/L TDS feed, 50% Recovery\n"
   ]
  },
  {
   "cell_type": "code",
   "execution_count": 1,
   "metadata": {
    "editable": true,
    "slideshow": {
     "slide_type": ""
    },
    "tags": []
   },
   "outputs": [],
   "source": [
    "from watertap.flowsheets.lsrro.lsrro import (\n",
    "    ACase,\n",
    "    BCase,\n",
    "    ABTradeoff,\n",
    "    run_lsrro_case,\n",
    ")\n",
    "import logging\n",
    "logging.getLogger(\"idaes\").setLevel(logging.ERROR)\n",
    "logging.getLogger(\"pyomo\").setLevel(logging.ERROR)"
   ]
  },
  {
   "cell_type": "code",
   "execution_count": 2,
   "metadata": {
    "editable": true,
    "slideshow": {
     "slide_type": ""
    },
    "tags": []
   },
   "outputs": [
    {
     "name": "stdout",
     "output_type": "stream",
     "text": [
      "Feed Concentration = 70.0 ppt\n",
      "\n",
      "***---Simulation results---***\n",
      "Simulation failed. The current configuration is infeasible. Please adjust the decision variables.\n",
      "\n",
      "***---Optimization results---***\n",
      "----system metrics----\n",
      "Feed: 1.05 kg/s, 66946 ppm\n",
      "Product: 0.498 kg/s, 1000 ppm\n",
      "Brine: 0.548 kg/s, 126890 ppm\n",
      "Volumetric water recovery: 50.0%\n",
      "Number of Stages: 3\n",
      "Total Membrane Area: 265.86\n",
      "Energy Consumption: 7.6 kWh/m3\n",
      "Levelized cost of water: 1.71 $/m3\n",
      "Primary Pump Capital Cost ($/m3):0.5047265838517884\n",
      "Booster Pump Capital Cost ($/m3): 0.1318504520423668\n",
      "ERD Capital Cost ($/m3):0.04116999386381928\n",
      "Membrane Capital Cost ($/m3): 0.14321735175018716\n",
      "Indirect Capital Cost ($/m3): 0.4104821907540809\n",
      "Electricity cost ($/m3): 0.5323462487411282\n",
      "\n",
      "\n",
      "--decision variables--\n",
      "Stage 1 operating pressure 85.0 bar\n",
      "Stage 1 membrane area      156.2 m2\n",
      "Stage 1 water perm. coeff.  1.5 LMH/bar\n",
      "Stage 1 salt perm. coeff.  0.1 LMH\n",
      "Stage 2 operating pressure 65.0 bar\n",
      "Stage 2 membrane area      97.3 m2\n",
      "Stage 2 water perm. coeff.  10.5 LMH/bar\n",
      "Stage 2 salt perm. coeff.  15.6 LMH\n",
      "Stage 3 operating pressure 63.0 bar\n",
      "Stage 3 membrane area      12.4 m2\n",
      "Stage 3 water perm. coeff.  13.4 LMH/bar\n",
      "Stage 3 salt perm. coeff.  32.1 LMH\n",
      "--------state---------\n",
      "Feed                : 1.046 kg/s, 66946 ppm, 1.0 bar\n",
      "Primary Pump 1 out  : 1.046 kg/s, 66946 ppm, 85.0 bar\n",
      "Mixer 1 recycle     : 0.532 kg/s, 52506 ppm, 85.0 bar\n",
      "Mixer 1 out         : 1.578 kg/s, 62076 ppm, 85.0 bar\n",
      "RO 1 permeate       : 0.498 kg/s, 1000 ppm, 1.0 bar\n",
      "RO 1 retentate      : 1.080 kg/s, 90234 ppm, 83.8 bar\n",
      "Primary Pump 2 out  : 1.080 kg/s, 90234 ppm, 65.0 bar\n",
      "Mixer 2 recycle     : 0.087 kg/s, 77433 ppm, 65.0 bar\n",
      "Mixer 2 out         : 1.167 kg/s, 89283 ppm, 65.0 bar\n",
      "RO 2 permeate       : 0.532 kg/s, 52506 ppm, 1.0 bar\n",
      "RO 2 retentate      : 0.634 kg/s, 120133 ppm, 63.0 bar\n",
      "Booster Pump 2 out  : 0.532 kg/s, 52506 ppm, 85.0 bar\n",
      "Primary Pump 3 out  : 0.634 kg/s, 120133 ppm, 63.0 bar\n",
      "RO 3 permeate       : 0.087 kg/s, 77433 ppm, 1.0 bar\n",
      "RO 3 retentate      : 0.548 kg/s, 126890 ppm, 61.9 bar\n",
      "Booster Pump 3 out  : 0.087 kg/s, 77433 ppm, 65.0 bar\n",
      "Disposal            : 0.548 kg/s, 126890 ppm, 1.0 bar\n",
      "Product             : 0.498 kg/s, 1000 ppm, 1.0 bar\n",
      "\n",
      "====================================================================================\n",
      "Unit : fs.ROUnits[1]                                                       Time: 0.0\n",
      "------------------------------------------------------------------------------------\n",
      "    Unit Performance\n",
      "\n",
      "    Variables: \n",
      "\n",
      "    Key                                            : Value       : Units                 : Fixed : Bounds\n",
      "                                Hydraulic Diameter :   0.0010625 :                 meter : False : (0.0001, 0.005)\n",
      "                                     Membrane Area :      156.19 :            meter ** 2 : False : (1, 20000)\n",
      "                                   Membrane Length :      11.054 :                 meter : False : (0.1, 500.0)\n",
      "                                    Membrane Width :      14.130 :                 meter : False : (0.1, 1000)\n",
      "                    NaCl Concentration @Inlet,Bulk :      64.678 : kilogram / meter ** 3 : False : (0.001, 2000.0)\n",
      "     NaCl Concentration @Inlet,Membrane-Interface  :      82.974 : kilogram / meter ** 3 : False : (0.001, 2000.0)\n",
      "                   NaCl Concentration @Outlet,Bulk :      95.938 : kilogram / meter ** 3 : False : (0.001, 2000.0)\n",
      "    NaCl Concentration @Outlet,Membrane-Interface  :      98.859 : kilogram / meter ** 3 : False : (0.001, 2000.0)\n",
      "                       NaCl Permeate Concentration :     0.99576 : kilogram / meter ** 3 : False : (0.001, 2000.0)\n",
      "        Osmotic Pressure @Inlet,Membrane-Interface :  6.8069e+06 :                pascal : False : (500.0, 50000000.0)\n",
      "      Osmotic Pressure @Outlet,Membrane-Interface  :  8.2662e+06 :                pascal : False : (500.0, 50000000.0)\n",
      "                                   Pressure Change : -1.2479e+05 :                pascal : False : (-1000000.0, 0)\n",
      "                            Reynolds Number @Inlet :      125.35 :         dimensionless : False : (10, 5000.0)\n",
      "                           Reynolds Number @Outlet :      81.373 :         dimensionless : False : (10, 5000.0)\n",
      "                        Solvent Mass Recovery Rate :     0.33610 :         dimensionless : False : (0.01, 0.999999)\n",
      "                                   Velocity @Inlet :     0.12608 :        meter / second : False : (0.01, 5)\n",
      "                                  Velocity @Outlet :    0.084566 :        meter / second : False : (0.01, 5)\n",
      "                        Volumetric Flowrate @Inlet :   0.0015143 :   meter ** 3 / second : False : (0.0, None)\n",
      "                       Volumetric Flowrate @Outlet :   0.0010157 :   meter ** 3 / second : False : (0.0, None)\n",
      "                          Volumetric Recovery Rate :     0.33019 :         dimensionless : False : (None, None)\n",
      "\n",
      "    Expressions: \n",
      "\n",
      "    Key                                    : Value      : Units\n",
      "                   Average Reynolds Number :     106.58 : dimensionless\n",
      "                 Average Solvent Mass Flux :  0.0031844 : kilogram / meter ** 2 / second\n",
      "    NaCl Average Mass Transfer Coefficient : 3.5496e-05 : meter / second\n",
      "             NaCl Average Solute Mass Flux : 3.1876e-06 : kilogram / meter ** 2 / second\n",
      "\n",
      "------------------------------------------------------------------------------------\n",
      "    Stream Table\n",
      "                                               Units         Feed Inlet  Feed Outlet  Permeate Outlet\n",
      "    flow_mass_phase_comp ('Liq', 'H2O')   kilogram / second      1.4799     0.98247        0.49738   \n",
      "    flow_mass_phase_comp ('Liq', 'NaCl')  kilogram / second    0.097943    0.097445     0.00049788   \n",
      "    temperature                                      kelvin      293.15      293.15         293.15   \n",
      "    pressure                                         pascal  8.5000e+06  8.3752e+06     1.0132e+05   \n",
      "====================================================================================\n",
      "\n",
      "====================================================================================\n",
      "Unit : fs.ROUnits[2]                                                       Time: 0.0\n",
      "------------------------------------------------------------------------------------\n",
      "    Unit Performance\n",
      "\n",
      "    Variables: \n",
      "\n",
      "    Key                                            : Value       : Units                 : Fixed : Bounds\n",
      "                                Hydraulic Diameter :   0.0010625 :                 meter : False : (0.0001, 0.005)\n",
      "                                     Membrane Area :      97.294 :            meter ** 2 : False : (1, 20000)\n",
      "                                   Membrane Length :      12.861 :                 meter : False : (0.1, 500.0)\n",
      "                                    Membrane Width :      7.5653 :                 meter : False : (0.1, 1000)\n",
      "                    NaCl Concentration @Inlet,Bulk :      94.862 : kilogram / meter ** 3 : False : (0.001, 2000.0)\n",
      "     NaCl Concentration @Inlet,Membrane-Interface  :      109.55 : kilogram / meter ** 3 : False : (0.001, 2000.0)\n",
      "                   NaCl Concentration @Outlet,Bulk :      130.44 : kilogram / meter ** 3 : False : (0.001, 2000.0)\n",
      "    NaCl Concentration @Outlet,Membrane-Interface  :      136.45 : kilogram / meter ** 3 : False : (0.001, 2000.0)\n",
      "                       NaCl Permeate Concentration :      54.328 : kilogram / meter ** 3 : False : (0.001, 2000.0)\n",
      "        Osmotic Pressure @Inlet,Membrane-Interface :  9.2881e+06 :                pascal : False : (500.0, 50000000.0)\n",
      "      Osmotic Pressure @Outlet,Membrane-Interface  :  1.2016e+07 :                pascal : False : (500.0, 50000000.0)\n",
      "                                   Pressure Change : -2.0012e+05 :                pascal : False : (-1000000.0, 0)\n",
      "                            Reynolds Number @Inlet :      164.47 :         dimensionless : False : (10, 5000.0)\n",
      "                           Reynolds Number @Outlet :      84.653 :         dimensionless : False : (10, 5000.0)\n",
      "                        Solvent Mass Recovery Rate :     0.47460 :         dimensionless : False : (0.01, 0.999999)\n",
      "                                   Velocity @Inlet :     0.17075 :        meter / second : False : (0.01, 5)\n",
      "                                  Velocity @Outlet :    0.090860 :        meter / second : False : (0.01, 5)\n",
      "                        Volumetric Flowrate @Inlet :   0.0010980 :   meter ** 3 / second : False : (0.0, None)\n",
      "                       Volumetric Flowrate @Outlet :  0.00058428 :   meter ** 3 / second : False : (0.0, None)\n",
      "                          Volumetric Recovery Rate :     0.46844 :         dimensionless : False : (None, None)\n",
      "\n",
      "    Expressions: \n",
      "\n",
      "    Key                                    : Value      : Units\n",
      "                   Average Reynolds Number :     131.72 : dimensionless\n",
      "                 Average Solvent Mass Flux :  0.0051826 : kilogram / meter ** 2 / second\n",
      "    NaCl Average Mass Transfer Coefficient : 3.8881e-05 : meter / second\n",
      "             NaCl Average Solute Mass Flux : 0.00028720 : kilogram / meter ** 2 / second\n",
      "\n",
      "------------------------------------------------------------------------------------\n",
      "    Stream Table\n",
      "                                               Units         Feed Inlet  Feed Outlet  Permeate Outlet\n",
      "    flow_mass_phase_comp ('Liq', 'H2O')   kilogram / second      1.0624     0.55820        0.50424   \n",
      "    flow_mass_phase_comp ('Liq', 'NaCl')  kilogram / second     0.10416    0.076214       0.027943   \n",
      "    temperature                                      kelvin      293.15      293.15         293.15   \n",
      "    pressure                                         pascal  6.5000e+06  6.2999e+06     1.0132e+05   \n",
      "====================================================================================\n",
      "\n",
      "====================================================================================\n",
      "Unit : fs.ROUnits[3]                                                       Time: 0.0\n",
      "------------------------------------------------------------------------------------\n",
      "    Unit Performance\n",
      "\n",
      "    Variables: \n",
      "\n",
      "    Key                                            : Value       : Units                 : Fixed : Bounds\n",
      "                                Hydraulic Diameter :   0.0010625 :                 meter : False : (0.0001, 0.005)\n",
      "                                     Membrane Area :      12.373 :            meter ** 2 : False : (1, 20000)\n",
      "                                   Membrane Length :      3.7630 :                 meter : False : (0.1, 500.0)\n",
      "                                    Membrane Width :      3.2881 :                 meter : False : (0.1, 1000)\n",
      "                    NaCl Concentration @Inlet,Bulk :      130.44 : kilogram / meter ** 3 : False : (0.001, 2000.0)\n",
      "     NaCl Concentration @Inlet,Membrane-Interface  :      139.35 : kilogram / meter ** 3 : False : (0.001, 2000.0)\n",
      "                   NaCl Concentration @Outlet,Bulk :      138.43 : kilogram / meter ** 3 : False : (0.001, 2000.0)\n",
      "    NaCl Concentration @Outlet,Membrane-Interface  :      145.55 : kilogram / meter ** 3 : False : (0.001, 2000.0)\n",
      "                       NaCl Permeate Concentration :      81.579 : kilogram / meter ** 3 : False : (0.001, 2000.0)\n",
      "        Osmotic Pressure @Inlet,Membrane-Interface :  1.2325e+07 :                pascal : False : (500.0, 50000000.0)\n",
      "      Osmotic Pressure @Outlet,Membrane-Interface  :  1.2995e+07 :                pascal : False : (500.0, 50000000.0)\n",
      "                                   Pressure Change : -1.0575e+05 :                pascal : False : (-1000000.0, 0)\n",
      "                            Reynolds Number @Inlet :      194.77 :         dimensionless : False : (10, 5000.0)\n",
      "                           Reynolds Number @Outlet :      166.21 :         dimensionless : False : (10, 5000.0)\n",
      "                        Solvent Mass Recovery Rate :     0.14327 :         dimensionless : False : (0.01, 0.999999)\n",
      "                                   Velocity @Inlet :     0.20905 :        meter / second : False : (0.01, 5)\n",
      "                                  Velocity @Outlet :     0.17964 :        meter / second : False : (0.01, 5)\n",
      "                        Volumetric Flowrate @Inlet :  0.00058428 :   meter ** 3 / second : False : (0.0, None)\n",
      "                       Volumetric Flowrate @Outlet :  0.00050208 :   meter ** 3 / second : False : (0.0, None)\n",
      "                          Volumetric Recovery Rate :     0.14082 :         dimensionless : False : (None, None)\n",
      "\n",
      "    Expressions: \n",
      "\n",
      "    Key                                    : Value      : Units\n",
      "                   Average Reynolds Number :     198.16 : dimensionless\n",
      "                 Average Solvent Mass Flux :  0.0064635 : kilogram / meter ** 2 / second\n",
      "    NaCl Average Mass Transfer Coefficient : 4.6355e-05 : meter / second\n",
      "             NaCl Average Solute Mass Flux : 0.00054250 : kilogram / meter ** 2 / second\n",
      "\n",
      "------------------------------------------------------------------------------------\n",
      "    Stream Table\n",
      "                                               Units         Feed Inlet  Feed Outlet  Permeate Outlet\n",
      "    flow_mass_phase_comp ('Liq', 'H2O')   kilogram / second     0.55820     0.47823       0.079973   \n",
      "    flow_mass_phase_comp ('Liq', 'NaCl')  kilogram / second    0.076214    0.069502      0.0067123   \n",
      "    temperature                                      kelvin      293.15      293.15         293.15   \n",
      "    pressure                                         pascal  6.2999e+06  6.1941e+06     1.0132e+05   \n",
      "====================================================================================\n"
     ]
    }
   ],
   "source": [
    "# %%capture \n",
    "m, results = run_lsrro_case(\n",
    "    number_of_stages=3,\n",
    "    water_recovery=0.50,\n",
    "    Cin=70,  # inlet NaCl conc kg/m3,\n",
    "    Qin=1e-3,  # inlet feed flowrate m3/s\n",
    "    A_case=ACase.optimize,\n",
    "    B_case=BCase.optimize,\n",
    "    AB_tradeoff=ABTradeoff.equality_constraint,\n",
    "    has_NaCl_solubility_limit=True,\n",
    "    has_calculated_concentration_polarization=True,\n",
    "    has_calculated_ro_pressure_drop=True,\n",
    "    permeate_quality_limit=1000e-6,\n",
    "    AB_gamma_factor=1,\n",
    "    # B_max=3.5e-6,\n",
    "    number_of_RO_finite_elements=10,\n",
    "    skip_initialization=True\n",
    ")\n"
   ]
  },
  {
   "cell_type": "markdown",
   "metadata": {},
   "source": [
    "## Overview of setting up and optimizing the LSRRO flowsheet--step by step.\n",
    "* Step 0: Import Python libraries.\n",
    "* Step 1: Build the LSRRO flowsheet.\n",
    "* Step 2: Set specifications for LSRRO flowsheet.\n",
    "* Step 3: Initialize the LSRRO flowsheet.\n",
    "* Step 4: Optimize the LSRRO flowsheet.\n",
    "* Step 5: Visualize results."
   ]
  },
  {
   "cell_type": "markdown",
   "metadata": {},
   "source": [
    "## Step 0: Import libraries."
   ]
  },
  {
   "cell_type": "code",
   "execution_count": 3,
   "metadata": {},
   "outputs": [],
   "source": [
    "# Import LSRRO flowsheet module\n",
    "from watertap.flowsheets.lsrro import lsrro"
   ]
  },
  {
   "cell_type": "markdown",
   "metadata": {},
   "source": [
    "## Step 1: Build the LSRRO flowsheet."
   ]
  },
  {
   "cell_type": "code",
   "execution_count": 4,
   "metadata": {},
   "outputs": [],
   "source": [
    "# Create a Pyomo concrete model, flowsheet, and NaCl property parameter block.\n",
    "m = lsrro.build(\n",
    "    number_of_stages=3,\n",
    "    has_NaCl_solubility_limit=True,\n",
    "    has_calculated_concentration_polarization=True,\n",
    "    has_calculated_ro_pressure_drop=True,\n",
    ")\n"
   ]
  },
  {
   "cell_type": "markdown",
   "metadata": {},
   "source": [
    "## Step 2: Set specifications for the LSRRO flowsheet."
   ]
  },
  {
   "cell_type": "code",
   "execution_count": 5,
   "metadata": {},
   "outputs": [
    {
     "name": "stdout",
     "output_type": "stream",
     "text": [
      "Feed Concentration = 70.0 ppt\n"
     ]
    }
   ],
   "source": [
    "lsrro.set_operating_conditions(m)"
   ]
  },
  {
   "cell_type": "markdown",
   "metadata": {},
   "source": [
    "## Step 3: Initialize the LSRRO flowsheet model."
   ]
  },
  {
   "cell_type": "code",
   "execution_count": 6,
   "metadata": {},
   "outputs": [
    {
     "name": "stdout",
     "output_type": "stream",
     "text": [
      "--------------------START FORWARD INITIALIZATION PASS--------------------\n",
      "--------------------START BACKWARD INITIALIZATION PASS--------------------\n",
      "--------------------START FORWARD INITIALIZATION PASS--------------------\n",
      "INFO: Starting Sequential Decomposition\n",
      "INFO: Starting first pass run of network\n",
      "2025-09-02 06:47:25 [INFO] idaes.init.fs.feed: Initialization Complete.\n",
      "2025-09-02 06:47:26 [INFO] idaes.init.fs.PrimaryPumps[1].control_volume: Initialization Complete\n",
      "2025-09-02 06:47:26 [INFO] idaes.init.fs.PrimaryPumps[1]: Initialization Complete: optimal - Optimal Solution Found\n",
      "2025-09-02 06:47:27 [INFO] idaes.init.fs.Mixers[1]: Initialization Complete: optimal - Optimal Solution Found\n",
      "2025-09-02 06:47:27 [INFO] idaes.init.fs.ROUnits[1].feed_side: Initialization Complete\n",
      "2025-09-02 06:47:30 [INFO] idaes.init.fs.ROUnits[1]: Initialization Complete: optimal - Optimal Solution Found\n",
      "2025-09-02 06:47:30 [INFO] idaes.init.fs.EnergyRecoveryDevices[1].control_volume: Initialization Complete\n",
      "2025-09-02 06:47:31 [INFO] idaes.init.fs.EnergyRecoveryDevices[1]: Initialization Complete: optimal - Optimal Solution Found\n",
      "2025-09-02 06:47:31 [INFO] idaes.init.fs.product: Initialization Complete.\n",
      "2025-09-02 06:47:32 [INFO] idaes.init.fs.PrimaryPumps[2].control_volume: Initialization Complete\n",
      "2025-09-02 06:47:32 [INFO] idaes.init.fs.PrimaryPumps[2]: Initialization Complete: optimal - Optimal Solution Found\n",
      "2025-09-02 06:47:33 [INFO] idaes.init.fs.Mixers[2]: Initialization Complete: optimal - Optimal Solution Found\n",
      "2025-09-02 06:47:33 [INFO] idaes.init.fs.ROUnits[2].feed_side: Initialization Complete\n",
      "2025-09-02 06:47:36 [INFO] idaes.init.fs.ROUnits[2]: Initialization Complete: optimal - Optimal Solution Found\n",
      "2025-09-02 06:47:36 [INFO] idaes.init.fs.BoosterPumps[2].control_volume: Initialization Complete\n",
      "2025-09-02 06:47:36 [INFO] idaes.init.fs.BoosterPumps[2]: Initialization Complete: optimal - Optimal Solution Found\n",
      "2025-09-02 06:47:37 [INFO] idaes.init.fs.PrimaryPumps[3].control_volume: Initialization Complete\n",
      "2025-09-02 06:47:37 [INFO] idaes.init.fs.PrimaryPumps[3]: Initialization Complete: optimal - Optimal Solution Found\n",
      "2025-09-02 06:47:38 [INFO] idaes.init.fs.ROUnits[3].feed_side: Initialization Complete\n",
      "2025-09-02 06:47:40 [INFO] idaes.init.fs.ROUnits[3]: Initialization Complete: optimal - Optimal Solution Found\n",
      "2025-09-02 06:47:41 [INFO] idaes.init.fs.BoosterPumps[3].control_volume: Initialization Complete\n",
      "2025-09-02 06:47:41 [INFO] idaes.init.fs.BoosterPumps[3]: Initialization Complete: optimal - Optimal Solution Found\n",
      "2025-09-02 06:47:42 [INFO] idaes.init.fs.EnergyRecoveryDevices[3].control_volume: Initialization Complete\n",
      "2025-09-02 06:47:42 [INFO] idaes.init.fs.EnergyRecoveryDevices[3]: Initialization Complete: optimal - Optimal Solution Found\n",
      "2025-09-02 06:47:42 [INFO] idaes.init.fs.disposal: Initialization Complete.\n",
      "INFO: Starting tear convergence procedure\n",
      "2025-09-02 06:47:42 [INFO] idaes.init.fs.feed: Initialization Complete.\n",
      "2025-09-02 06:47:43 [INFO] idaes.init.fs.PrimaryPumps[1].control_volume: Initialization Complete\n",
      "2025-09-02 06:47:43 [INFO] idaes.init.fs.PrimaryPumps[1]: Initialization Complete: optimal - Optimal Solution Found\n",
      "INFO: Starting Direct tear convergence\n",
      "INFO: Running Direct iteration 1\n",
      "2025-09-02 06:47:44 [INFO] idaes.init.fs.Mixers[1]: Initialization Complete: optimal - Optimal Solution Found\n",
      "2025-09-02 06:47:45 [INFO] idaes.init.fs.ROUnits[1].feed_side: Initialization Complete\n",
      "2025-09-02 06:47:47 [INFO] idaes.init.fs.ROUnits[1]: Initialization Complete: optimal - Optimal Solution Found\n",
      "2025-09-02 06:47:48 [INFO] idaes.init.fs.EnergyRecoveryDevices[1].control_volume: Initialization Complete\n",
      "2025-09-02 06:47:48 [INFO] idaes.init.fs.EnergyRecoveryDevices[1]: Initialization Complete: optimal - Optimal Solution Found\n",
      "2025-09-02 06:47:49 [INFO] idaes.init.fs.PrimaryPumps[2].control_volume: Initialization Complete\n",
      "2025-09-02 06:47:49 [INFO] idaes.init.fs.PrimaryPumps[2]: Initialization Complete: optimal - Optimal Solution Found\n",
      "2025-09-02 06:47:50 [INFO] idaes.init.fs.Mixers[2]: Initialization Complete: optimal - Optimal Solution Found\n",
      "2025-09-02 06:47:51 [INFO] idaes.init.fs.ROUnits[2].feed_side: Initialization Complete\n",
      "2025-09-02 06:47:53 [INFO] idaes.init.fs.ROUnits[2]: Initialization Complete: optimal - Optimal Solution Found\n",
      "2025-09-02 06:47:54 [INFO] idaes.init.fs.PrimaryPumps[3].control_volume: Initialization Complete\n",
      "2025-09-02 06:47:54 [INFO] idaes.init.fs.PrimaryPumps[3]: Initialization Complete: optimal - Optimal Solution Found\n",
      "2025-09-02 06:47:55 [INFO] idaes.init.fs.BoosterPumps[2].control_volume: Initialization Complete\n",
      "2025-09-02 06:47:55 [INFO] idaes.init.fs.BoosterPumps[2]: Initialization Complete: optimal - Optimal Solution Found\n",
      "2025-09-02 06:47:55 [INFO] idaes.init.fs.ROUnits[3].feed_side: Initialization Complete\n",
      "2025-09-02 06:47:57 [INFO] idaes.init.fs.ROUnits[3]: Initialization Complete: optimal - Optimal Solution Found\n",
      "2025-09-02 06:47:58 [INFO] idaes.init.fs.BoosterPumps[3].control_volume: Initialization Complete\n",
      "2025-09-02 06:47:58 [INFO] idaes.init.fs.BoosterPumps[3]: Initialization Complete: optimal - Optimal Solution Found\n",
      "INFO: Running Direct iteration 2\n",
      "2025-09-02 06:48:00 [INFO] idaes.init.fs.Mixers[1]: Initialization Complete: optimal - Optimal Solution Found\n",
      "2025-09-02 06:48:00 [INFO] idaes.init.fs.ROUnits[1].feed_side: Initialization Complete\n",
      "2025-09-02 06:48:02 [INFO] idaes.init.fs.ROUnits[1]: Initialization Complete: optimal - Optimal Solution Found\n",
      "2025-09-02 06:48:03 [INFO] idaes.init.fs.EnergyRecoveryDevices[1].control_volume: Initialization Complete\n",
      "2025-09-02 06:48:03 [INFO] idaes.init.fs.EnergyRecoveryDevices[1]: Initialization Complete: optimal - Optimal Solution Found\n",
      "2025-09-02 06:48:04 [INFO] idaes.init.fs.PrimaryPumps[2].control_volume: Initialization Complete\n",
      "2025-09-02 06:48:04 [INFO] idaes.init.fs.PrimaryPumps[2]: Initialization Complete: optimal - Optimal Solution Found\n",
      "2025-09-02 06:48:05 [INFO] idaes.init.fs.Mixers[2]: Initialization Complete: optimal - Optimal Solution Found\n",
      "2025-09-02 06:48:06 [INFO] idaes.init.fs.ROUnits[2].feed_side: Initialization Complete\n",
      "2025-09-02 06:48:08 [INFO] idaes.init.fs.ROUnits[2]: Initialization Complete: optimal - Optimal Solution Found\n",
      "2025-09-02 06:48:09 [INFO] idaes.init.fs.PrimaryPumps[3].control_volume: Initialization Complete\n",
      "2025-09-02 06:48:09 [INFO] idaes.init.fs.PrimaryPumps[3]: Initialization Complete: optimal - Optimal Solution Found\n",
      "2025-09-02 06:48:10 [INFO] idaes.init.fs.BoosterPumps[2].control_volume: Initialization Complete\n",
      "2025-09-02 06:48:10 [INFO] idaes.init.fs.BoosterPumps[2]: Initialization Complete: optimal - Optimal Solution Found\n",
      "2025-09-02 06:48:10 [INFO] idaes.init.fs.ROUnits[3].feed_side: Initialization Complete\n",
      "2025-09-02 06:48:12 [INFO] idaes.init.fs.ROUnits[3]: Initialization Complete: optimal - Optimal Solution Found\n",
      "2025-09-02 06:48:13 [INFO] idaes.init.fs.BoosterPumps[3].control_volume: Initialization Complete\n",
      "2025-09-02 06:48:13 [INFO] idaes.init.fs.BoosterPumps[3]: Initialization Complete: optimal - Optimal Solution Found\n",
      "INFO: Running Direct iteration 3\n",
      "2025-09-02 06:48:14 [INFO] idaes.init.fs.Mixers[1]: Initialization Complete: optimal - Optimal Solution Found\n",
      "2025-09-02 06:48:15 [INFO] idaes.init.fs.ROUnits[1].feed_side: Initialization Complete\n",
      "2025-09-02 06:48:17 [INFO] idaes.init.fs.ROUnits[1]: Initialization Complete: optimal - Optimal Solution Found\n",
      "2025-09-02 06:48:17 [INFO] idaes.init.fs.EnergyRecoveryDevices[1].control_volume: Initialization Complete\n",
      "2025-09-02 06:48:18 [INFO] idaes.init.fs.EnergyRecoveryDevices[1]: Initialization Complete: optimal - Optimal Solution Found\n",
      "2025-09-02 06:48:18 [INFO] idaes.init.fs.PrimaryPumps[2].control_volume: Initialization Complete\n",
      "2025-09-02 06:48:19 [INFO] idaes.init.fs.PrimaryPumps[2]: Initialization Complete: optimal - Optimal Solution Found\n",
      "2025-09-02 06:48:20 [INFO] idaes.init.fs.Mixers[2]: Initialization Complete: optimal - Optimal Solution Found\n",
      "2025-09-02 06:48:20 [INFO] idaes.init.fs.ROUnits[2].feed_side: Initialization Complete\n",
      "2025-09-02 06:48:22 [INFO] idaes.init.fs.ROUnits[2]: Initialization Complete: optimal - Optimal Solution Found\n",
      "2025-09-02 06:48:23 [INFO] idaes.init.fs.PrimaryPumps[3].control_volume: Initialization Complete\n",
      "2025-09-02 06:48:23 [INFO] idaes.init.fs.PrimaryPumps[3]: Initialization Complete: optimal - Optimal Solution Found\n",
      "2025-09-02 06:48:24 [INFO] idaes.init.fs.BoosterPumps[2].control_volume: Initialization Complete\n",
      "2025-09-02 06:48:24 [INFO] idaes.init.fs.BoosterPumps[2]: Initialization Complete: optimal - Optimal Solution Found\n",
      "2025-09-02 06:48:25 [INFO] idaes.init.fs.ROUnits[3].feed_side: Initialization Complete\n",
      "2025-09-02 06:48:27 [INFO] idaes.init.fs.ROUnits[3]: Initialization Complete: optimal - Optimal Solution Found\n",
      "2025-09-02 06:48:28 [INFO] idaes.init.fs.BoosterPumps[3].control_volume: Initialization Complete\n",
      "2025-09-02 06:48:28 [INFO] idaes.init.fs.BoosterPumps[3]: Initialization Complete: optimal - Optimal Solution Found\n",
      "WARNING: Direct failed to converge in fs.NumberOfStages iterations\n",
      "2025-09-02 06:48:28 [INFO] idaes.init.fs.product: Initialization Complete.\n",
      "2025-09-02 06:48:29 [INFO] idaes.init.fs.EnergyRecoveryDevices[3].control_volume: Initialization Complete\n",
      "2025-09-02 06:48:29 [INFO] idaes.init.fs.EnergyRecoveryDevices[3]: Initialization Complete: optimal - Optimal Solution Found\n",
      "2025-09-02 06:48:30 [INFO] idaes.init.fs.disposal: Initialization Complete.\n",
      "INFO: Finished Sequential Decomposition in 64.94 seconds\n"
     ]
    }
   ],
   "source": [
    "lsrro.initialize(m)"
   ]
  },
  {
   "cell_type": "markdown",
   "metadata": {},
   "source": [
    "## Step 4: Simulate the LSRRO flowsheet."
   ]
  },
  {
   "cell_type": "code",
   "execution_count": 7,
   "metadata": {},
   "outputs": [
    {
     "data": {
      "text/plain": [
       "{'Problem': [{'Lower bound': -inf, 'Upper bound': inf, 'Number of objectives': 1, 'Number of constraints': 2039, 'Number of variables': 2039, 'Sense': 'unknown'}], 'Solver': [{'Status': 'ok', 'Message': 'Ipopt 3.13.2\\\\x3a Optimal Solution Found', 'Termination condition': 'optimal', 'Id': 0, 'Error rc': 0, 'Time': 0.2259519100189209}], 'Solution': [OrderedDict([('number of solutions', 0), ('number of solutions displayed', 0)])]}"
      ]
     },
     "execution_count": 7,
     "metadata": {},
     "output_type": "execute_result"
    }
   ],
   "source": [
    "lsrro.solve(m)\n"
   ]
  },
  {
   "cell_type": "code",
   "execution_count": 8,
   "metadata": {},
   "outputs": [
    {
     "name": "stdout",
     "output_type": "stream",
     "text": [
      "--------state---------\n",
      "Feed                : 1.046 kg/s, 66946 ppm, 1.0 bar\n",
      "Primary Pump 1 out  : 1.046 kg/s, 66946 ppm, 75.0 bar\n",
      "Mixer 1 recycle     : 0.395 kg/s, 27937 ppm, 75.0 bar\n",
      "Mixer 1 out         : 1.440 kg/s, 56253 ppm, 75.0 bar\n",
      "RO 1 permeate       : 0.349 kg/s, 751 ppm, 1.0 bar\n",
      "RO 1 retentate      : 1.092 kg/s, 73988 ppm, 66.9 bar\n",
      "Primary Pump 2 out  : 1.092 kg/s, 73988 ppm, 75.0 bar\n",
      "Mixer 2 recycle     : 0.198 kg/s, 39703 ppm, 75.0 bar\n",
      "Mixer 2 out         : 1.290 kg/s, 68722 ppm, 75.0 bar\n",
      "RO 2 permeate       : 0.395 kg/s, 27937 ppm, 1.0 bar\n",
      "RO 2 retentate      : 0.895 kg/s, 86717 ppm, 71.6 bar\n",
      "Booster Pump 2 out  : 0.395 kg/s, 27937 ppm, 75.0 bar\n",
      "Primary Pump 3 out  : 0.895 kg/s, 86717 ppm, 75.0 bar\n",
      "RO 3 permeate       : 0.198 kg/s, 39703 ppm, 1.0 bar\n",
      "RO 3 retentate      : 0.697 kg/s, 100084 ppm, 73.4 bar\n",
      "Booster Pump 3 out  : 0.198 kg/s, 39703 ppm, 75.0 bar\n",
      "Disposal            : 0.697 kg/s, 100084 ppm, 1.0 bar\n",
      "Product             : 0.349 kg/s, 751 ppm, 1.0 bar\n"
     ]
    }
   ],
   "source": [
    "lsrro.display_state(m)"
   ]
  },
  {
   "cell_type": "markdown",
   "metadata": {},
   "source": [
    "## Step 5: Optimize the LSRRO flowsheet."
   ]
  },
  {
   "cell_type": "code",
   "execution_count": 9,
   "metadata": {},
   "outputs": [],
   "source": [
    "lsrro.optimize_set_up(m,\n",
    "    water_recovery=0.5,\n",
    "    A_case=ACase.optimize,\n",
    "    B_case=BCase.optimize,\n",
    "    AB_tradeoff=ABTradeoff.equality_constraint,\n",
    "    permeate_quality_limit=500e-6,\n",
    "    )\n",
    "optimization_results = lsrro.solve(m, raise_on_failure=True)"
   ]
  },
  {
   "cell_type": "code",
   "execution_count": 10,
   "metadata": {},
   "outputs": [
    {
     "name": "stdout",
     "output_type": "stream",
     "text": [
      "----system metrics----\n",
      "Feed: 1.05 kg/s, 66946 ppm\n",
      "Product: 0.498 kg/s, 500 ppm\n",
      "Brine: 0.548 kg/s, 127301 ppm\n",
      "Volumetric water recovery: 50.0%\n",
      "Number of Stages: 3\n",
      "Total Membrane Area: 242.69\n",
      "Energy Consumption: 9.0 kWh/m3\n",
      "Levelized cost of water: 1.94 $/m3\n",
      "Primary Pump Capital Cost ($/m3):0.5508102736918976\n",
      "Booster Pump Capital Cost ($/m3): 0.18165719719739787\n",
      "ERD Capital Cost ($/m3):0.04458632368629701\n",
      "Membrane Capital Cost ($/m3): 0.1469527167064308\n",
      "Indirect Capital Cost ($/m3): 0.46200325564101163\n",
      "Electricity cost ($/m3): 0.6276017013441124\n",
      "\n",
      "\n"
     ]
    }
   ],
   "source": [
    "lsrro.display_system(m)"
   ]
  },
  {
   "cell_type": "markdown",
   "metadata": {},
   "source": [
    "## "
   ]
  },
  {
   "cell_type": "markdown",
   "metadata": {},
   "source": [
    "## Step 6: Visualize results"
   ]
  },
  {
   "cell_type": "code",
   "execution_count": 11,
   "metadata": {},
   "outputs": [],
   "source": [
    "from watertap.flowsheets.lsrro.multi_sweep import _lsrro_presweep as setup_sensitivity_sweep\n",
    "from parameter_sweep import LinearSample, parameter_sweep\n",
    "number_of_stages = 3\n",
    "output_filename = f\"param_sweep_output/{number_of_stages}_stage/results_LSRRO.csv\"\n",
    "sweep_params = {}\n",
    "outputs = {}\n",
    "nx = 3\n",
    "\n",
    "# m = setup_sensitivity_sweep(number_of_stages=number_of_stages)\n",
    "m.fs.feed.flow_mass_phase_comp.unfix()\n",
    "m.fs.feed.properties[0].conc_mass_phase_comp[\"Liq\", \"NaCl\"].fix()\n",
    "m.fs.feed.properties[0].flow_vol_phase[\"Liq\"].fix()\n",
    "# Sweep parameters ------------------------------------------------------------------------\n",
    "\n",
    "sweep_params[\"Feed Concentration\"] = LinearSample(m.fs.feed.properties[0].conc_mass_phase_comp[\"Liq\", \"NaCl\"], 70, 150, nx)\n",
    "\n",
    "sweep_params[\"Volumetric Recovery Rate\"] = LinearSample(m.fs.water_recovery, 0.2, 0.65, nx)\n",
    "\n",
    "# Outputs  -------------------------------------------------------------------------------\n",
    "outputs[\"LCOW\"] = m.fs.costing.LCOW\n",
    "outputs[\"LCOW wrt Feed Flow\"] = m.fs.costing.LCOW_feed\n",
    "outputs[\"SEC\"] = m.fs.costing.specific_energy_consumption\n",
    "outputs[\"SEC wrt Feed\"] = m.fs.costing.specific_energy_consumption_feed\n",
    "\n",
    "sweep_sensitivity_results = parameter_sweep(\n",
    "        m,\n",
    "        sweep_params,\n",
    "        outputs,\n",
    "        csv_results_file_name=output_filename,\n",
    "        optimize_function=lsrro.solve,\n",
    "        interpolate_nan_outputs=True,\n",
    "    )"
   ]
  },
  {
   "cell_type": "code",
   "execution_count": null,
   "metadata": {},
   "outputs": [],
   "source": []
  }
 ],
 "metadata": {
  "kernelspec": {
   "display_name": "watertap-dev",
   "language": "python",
   "name": "python3"
  },
  "language_info": {
   "codemirror_mode": {
    "name": "ipython",
    "version": 3
   },
   "file_extension": ".py",
   "mimetype": "text/x-python",
   "name": "python",
   "nbconvert_exporter": "python",
   "pygments_lexer": "ipython3",
   "version": "3.11.13"
  }
 },
 "nbformat": 4,
 "nbformat_minor": 4
}
